import matematica_izi
aritmetica_solver('solo tengo 2 terminos', 0, 0, 0)